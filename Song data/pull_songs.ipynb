{
 "cells": [
  {
   "cell_type": "code",
   "execution_count": 1,
   "metadata": {},
   "outputs": [
    {
     "name": "stdout",
     "output_type": "stream",
     "text": [
      "Defaulting to user installation because normal site-packages is not writeable\n",
      "\u001b[33mWARNING: Ignoring invalid distribution -umpy (/Users/mrinoybanerjee/Library/Python/3.9/lib/python/site-packages)\u001b[0m\u001b[33m\n",
      "\u001b[0m\u001b[33mWARNING: Ignoring invalid distribution -umpy (/Users/mrinoybanerjee/Library/Python/3.9/lib/python/site-packages)\u001b[0m\u001b[33m\n",
      "\u001b[0mRequirement already satisfied: requests in /Users/mrinoybanerjee/Library/Python/3.9/lib/python/site-packages (2.31.0)\n",
      "Collecting python-dotenv\n",
      "  Downloading python_dotenv-1.0.1-py3-none-any.whl.metadata (23 kB)\n",
      "Requirement already satisfied: charset-normalizer<4,>=2 in /Users/mrinoybanerjee/Library/Python/3.9/lib/python/site-packages (from requests) (3.3.0)\n",
      "Requirement already satisfied: idna<4,>=2.5 in /Users/mrinoybanerjee/Library/Python/3.9/lib/python/site-packages (from requests) (3.4)\n",
      "Requirement already satisfied: urllib3<3,>=1.21.1 in /Users/mrinoybanerjee/Library/Python/3.9/lib/python/site-packages (from requests) (2.0.7)\n",
      "Requirement already satisfied: certifi>=2017.4.17 in /Users/mrinoybanerjee/Library/Python/3.9/lib/python/site-packages (from requests) (2023.7.22)\n",
      "Downloading python_dotenv-1.0.1-py3-none-any.whl (19 kB)\n",
      "\u001b[33mWARNING: Ignoring invalid distribution -umpy (/Users/mrinoybanerjee/Library/Python/3.9/lib/python/site-packages)\u001b[0m\u001b[33m\n",
      "\u001b[0mInstalling collected packages: python-dotenv\n",
      "Successfully installed python-dotenv-1.0.1\n",
      "\u001b[33mWARNING: Ignoring invalid distribution -umpy (/Users/mrinoybanerjee/Library/Python/3.9/lib/python/site-packages)\u001b[0m\u001b[33m\n",
      "\u001b[0m\n",
      "\u001b[1m[\u001b[0m\u001b[34;49mnotice\u001b[0m\u001b[1;39;49m]\u001b[0m\u001b[39;49m A new release of pip is available: \u001b[0m\u001b[31;49m23.3.1\u001b[0m\u001b[39;49m -> \u001b[0m\u001b[32;49m24.0\u001b[0m\n",
      "\u001b[1m[\u001b[0m\u001b[34;49mnotice\u001b[0m\u001b[1;39;49m]\u001b[0m\u001b[39;49m To update, run: \u001b[0m\u001b[32;49m/Library/Developer/CommandLineTools/usr/bin/python3 -m pip install --upgrade pip\u001b[0m\n",
      "Note: you may need to restart the kernel to use updated packages.\n"
     ]
    }
   ],
   "source": [
    "%pip install requests python-dotenv"
   ]
  },
  {
   "cell_type": "code",
   "execution_count": null,
   "metadata": {},
   "outputs": [],
   "source": [
    "SPOTIFY_CLIENT_ID='your_client_id_here'\n",
    "SPOTIFY_CLIENT_SECRET='your_client_secret_here'"
   ]
  },
  {
   "cell_type": "code",
   "execution_count": null,
   "metadata": {},
   "outputs": [],
   "source": [
    "import requests\n",
    "from datetime import datetime, timedelta\n",
    "import base64\n",
    "from dotenv import load_dotenv\n",
    "import os\n",
    "\n",
    "# Load environment variables\n",
    "load_dotenv()\n",
    "\n",
    "# Spotify credentials\n",
    "CLIENT_ID = os.getenv('SPOTIFY_CLIENT_ID')\n",
    "CLIENT_SECRET = os.getenv('SPOTIFY_CLIENT_SECRET')\n",
    "\n",
    "def get_spotify_token(client_id, client_secret):\n",
    "    \"\"\"Authenticate with the Spotify API and return an access token.\"\"\"\n",
    "    auth_url = 'https://accounts.spotify.com/api/token'\n",
    "    auth_response = requests.post(auth_url, {\n",
    "        'grant_type': 'client_credentials',\n",
    "        'client_id': client_id,\n",
    "        'client_secret': client_secret,\n",
    "    })\n",
    "    auth_response_data = auth_response.json()\n",
    "    return auth_response_data.get('access_token')\n",
    "\n",
    "def get_my_recently_played_tracks():\n",
    "    \"\"\"Fetch the user's recently played tracks from Spotify.\"\"\"\n",
    "    access_token = get_spotify_token(CLIENT_ID, CLIENT_SECRET)\n",
    "    if not access_token:\n",
    "        print(\"Failed to retrieve access token\")\n",
    "        return []\n",
    "\n",
    "    # Spotify Web API endpoint for recently played tracks\n",
    "    endpoint = \"https://api.spotify.com/v1/me/player/recently-played\"\n",
    "    headers = {\n",
    "        \"Authorization\": f\"Bearer {access_token}\"\n",
    "    }\n",
    "    \n",
    "    # Calculate the start of the day in Unix milliseconds\n",
    "    start_of_day = datetime.now() - timedelta(days=1)\n",
    "    start_of_day_unix_timestamp = int(start_of_day.timestamp()) * 1000\n",
    "    \n",
    "    # Request parameters\n",
    "    params = {\n",
    "        \"limit\": 50,  # Adjust the limit as needed, max is 50\n",
    "        \"after\": start_of_day_unix_timestamp\n",
    "    }\n",
    "\n",
    "    response = requests.get(endpoint, headers=headers, params=params)\n",
    "    if response.status_code == 200:\n",
    "        return response.json()\n",
    "    else:\n",
    "        print(f\"Failed to fetch recently played tracks: {response.status_code}\")\n",
    "        return []\n",
    "\n",
    "\n",
    "song_history = get_my_recently_played_tracks()\n",
    "print(song_history)\n"
   ]
  }
 ],
 "metadata": {
  "kernelspec": {
   "display_name": "Python 3",
   "language": "python",
   "name": "python3"
  },
  "language_info": {
   "codemirror_mode": {
    "name": "ipython",
    "version": 3
   },
   "file_extension": ".py",
   "mimetype": "text/x-python",
   "name": "python",
   "nbconvert_exporter": "python",
   "pygments_lexer": "ipython3",
   "version": "3.9.6"
  }
 },
 "nbformat": 4,
 "nbformat_minor": 2
}
