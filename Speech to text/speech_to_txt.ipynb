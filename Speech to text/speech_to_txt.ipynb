{
 "cells": [
  {
   "cell_type": "code",
   "execution_count": 9,
   "metadata": {},
   "outputs": [
    {
     "name": "stderr",
     "output_type": "stream",
     "text": [
      "/Users/mrinoybanerjee/Library/Python/3.9/lib/python/site-packages/whisper/transcribe.py:115: UserWarning: FP16 is not supported on CPU; using FP32 instead\n",
      "  warnings.warn(\"FP16 is not supported on CPU; using FP32 instead\")\n"
     ]
    },
    {
     "name": "stdout",
     "output_type": "stream",
     "text": [
      "Transcribed Text:  The stale smell of old beer lingers. It takes heat to bring out the odor. A cold dip restores health and zest. A salt pickle tastes fine with ham. Tacos al pastor are my favorite. A zestful food is the hot cross bun.\n"
     ]
    },
    {
     "data": {
      "text/plain": [
       "' The stale smell of old beer lingers. It takes heat to bring out the odor. A cold dip restores health and zest. A salt pickle tastes fine with ham. Tacos al pastor are my favorite. A zestful food is the hot cross bun.'"
      ]
     },
     "execution_count": 9,
     "metadata": {},
     "output_type": "execute_result"
    }
   ],
   "source": [
    "import whisper\n",
    "\n",
    "def speech_to_text_whisper(audio_file_path):\n",
    "    \"\"\"\n",
    "    Convert speech to text using OpenAI's Whisper model.\n",
    "\n",
    "    :param audio_file_path: Path to the audio file to transcribe.\n",
    "    \"\"\"\n",
    "    # Load the model\n",
    "    model = whisper.load_model(\"base\")  # You can choose other models like \"small\", \"medium\", \"large\", \"tiny\"\n",
    "\n",
    "    # Process the audio file\n",
    "    result = model.transcribe(audio_file_path)\n",
    "\n",
    "    # Extract and print the transcribed text\n",
    "    text = result[\"text\"]\n",
    "    print(\"Transcribed Text:\", text)\n",
    "    return text\n",
    "\n",
    "audio_file_path = \"/Users/mrinoybanerjee/Desktop/Duke/Misc/Hackncstate/penpal-ai-journal/harvard.wav\"  # Update this path to your audio file\n",
    "speech_to_text_whisper(audio_file_path)"
   ]
  }
 ],
 "metadata": {
  "kernelspec": {
   "display_name": "Python 3",
   "language": "python",
   "name": "python3"
  },
  "language_info": {
   "codemirror_mode": {
    "name": "ipython",
    "version": 3
   },
   "file_extension": ".py",
   "mimetype": "text/x-python",
   "name": "python",
   "nbconvert_exporter": "python",
   "pygments_lexer": "ipython3",
   "version": "3.9.6"
  }
 },
 "nbformat": 4,
 "nbformat_minor": 2
}
