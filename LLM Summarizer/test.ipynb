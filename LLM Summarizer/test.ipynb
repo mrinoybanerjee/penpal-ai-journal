{
 "cells": [
  {
   "cell_type": "code",
   "execution_count": 23,
   "metadata": {},
   "outputs": [
    {
     "ename": "KeyError",
     "evalue": "'skgG64lj9fB5Y6uxKMsRhNT3BlbkFJh82sHMJNuzCgpGCZ1YWS'",
     "output_type": "error",
     "traceback": [
      "\u001b[0;31m---------------------------------------------------------------------------\u001b[0m",
      "\u001b[0;31mKeyError\u001b[0m                                  Traceback (most recent call last)",
      "Cell \u001b[0;32mIn[23], line 41\u001b[0m\n\u001b[1;32m     37\u001b[0m texts \u001b[38;5;241m=\u001b[39m [\u001b[38;5;124m\"\u001b[39m\u001b[38;5;124mToday was a good day. I went to the park and later watched a movie.\u001b[39m\u001b[38;5;124m\"\u001b[39m, \n\u001b[1;32m     38\u001b[0m          \u001b[38;5;124m\"\u001b[39m\u001b[38;5;124mI had a delicious lunch with friends.\u001b[39m\u001b[38;5;124m\"\u001b[39m]\n\u001b[1;32m     39\u001b[0m image_paths \u001b[38;5;241m=\u001b[39m [\u001b[38;5;124m\"\u001b[39m\u001b[38;5;124mpath/to/image1.jpg\u001b[39m\u001b[38;5;124m\"\u001b[39m, \u001b[38;5;124m\"\u001b[39m\u001b[38;5;124mpath/to/image2.jpg\u001b[39m\u001b[38;5;124m\"\u001b[39m]  \u001b[38;5;66;03m# Replace with actual paths\u001b[39;00m\n\u001b[0;32m---> 41\u001b[0m journal_entry \u001b[38;5;241m=\u001b[39m \u001b[43mcreate_journal_entry\u001b[49m\u001b[43m(\u001b[49m\u001b[43mtexts\u001b[49m\u001b[43m,\u001b[49m\u001b[43m \u001b[49m\u001b[43mimage_paths\u001b[49m\u001b[43m)\u001b[49m\n\u001b[1;32m     42\u001b[0m \u001b[38;5;28mprint\u001b[39m(journal_entry)\n",
      "Cell \u001b[0;32mIn[23], line 25\u001b[0m, in \u001b[0;36mcreate_journal_entry\u001b[0;34m(texts, image_paths)\u001b[0m\n\u001b[1;32m     24\u001b[0m \u001b[38;5;28;01mdef\u001b[39;00m \u001b[38;5;21mcreate_journal_entry\u001b[39m(texts, image_paths):\n\u001b[0;32m---> 25\u001b[0m     summarized_texts \u001b[38;5;241m=\u001b[39m [summarize_text(text) \u001b[38;5;28;01mfor\u001b[39;00m text \u001b[38;5;129;01min\u001b[39;00m texts]\n\u001b[1;32m     26\u001b[0m     image_descriptions \u001b[38;5;241m=\u001b[39m [analyze_image(path) \u001b[38;5;28;01mfor\u001b[39;00m path \u001b[38;5;129;01min\u001b[39;00m image_paths]\n\u001b[1;32m     28\u001b[0m     journal_entry \u001b[38;5;241m=\u001b[39m \u001b[38;5;124m\"\u001b[39m\u001b[38;5;124mJournal Entry:\u001b[39m\u001b[38;5;130;01m\\n\u001b[39;00m\u001b[38;5;124m\"\u001b[39m\n",
      "Cell \u001b[0;32mIn[23], line 25\u001b[0m, in \u001b[0;36m<listcomp>\u001b[0;34m(.0)\u001b[0m\n\u001b[1;32m     24\u001b[0m \u001b[38;5;28;01mdef\u001b[39;00m \u001b[38;5;21mcreate_journal_entry\u001b[39m(texts, image_paths):\n\u001b[0;32m---> 25\u001b[0m     summarized_texts \u001b[38;5;241m=\u001b[39m [\u001b[43msummarize_text\u001b[49m\u001b[43m(\u001b[49m\u001b[43mtext\u001b[49m\u001b[43m)\u001b[49m \u001b[38;5;28;01mfor\u001b[39;00m text \u001b[38;5;129;01min\u001b[39;00m texts]\n\u001b[1;32m     26\u001b[0m     image_descriptions \u001b[38;5;241m=\u001b[39m [analyze_image(path) \u001b[38;5;28;01mfor\u001b[39;00m path \u001b[38;5;129;01min\u001b[39;00m image_paths]\n\u001b[1;32m     28\u001b[0m     journal_entry \u001b[38;5;241m=\u001b[39m \u001b[38;5;124m\"\u001b[39m\u001b[38;5;124mJournal Entry:\u001b[39m\u001b[38;5;130;01m\\n\u001b[39;00m\u001b[38;5;124m\"\u001b[39m\n",
      "Cell \u001b[0;32mIn[23], line 11\u001b[0m, in \u001b[0;36msummarize_text\u001b[0;34m(text)\u001b[0m\n\u001b[1;32m      9\u001b[0m \u001b[38;5;28;01mdef\u001b[39;00m \u001b[38;5;21msummarize_text\u001b[39m(text):\n\u001b[1;32m     10\u001b[0m     client \u001b[38;5;241m=\u001b[39m OpenAI(\n\u001b[0;32m---> 11\u001b[0m         api_key\u001b[38;5;241m=\u001b[39m\u001b[43mos\u001b[49m\u001b[38;5;241;43m.\u001b[39;49m\u001b[43menviron\u001b[49m\u001b[43m[\u001b[49m\u001b[38;5;124;43m'\u001b[39;49m\u001b[38;5;124;43mskgG64lj9fB5Y6uxKMsRhNT3BlbkFJh82sHMJNuzCgpGCZ1YWS\u001b[39;49m\u001b[38;5;124;43m'\u001b[39;49m\u001b[43m]\u001b[49m\n\u001b[1;32m     12\u001b[0m     )\n\u001b[1;32m     13\u001b[0m     response \u001b[38;5;241m=\u001b[39m client\u001b[38;5;241m.\u001b[39mcompletions\u001b[38;5;241m.\u001b[39mcreate(\n\u001b[1;32m     14\u001b[0m         model\u001b[38;5;241m=\u001b[39m\u001b[38;5;124m\"\u001b[39m\u001b[38;5;124mgpt4\u001b[39m\u001b[38;5;124m\"\u001b[39m,\n\u001b[1;32m     15\u001b[0m         prompt\u001b[38;5;241m=\u001b[39m\u001b[38;5;124mf\u001b[39m\u001b[38;5;124m\"\u001b[39m\u001b[38;5;124mSummarize this text: \u001b[39m\u001b[38;5;132;01m{\u001b[39;00mtext\u001b[38;5;132;01m}\u001b[39;00m\u001b[38;5;124m\"\u001b[39m,\n\u001b[0;32m   (...)\u001b[0m\n\u001b[1;32m     20\u001b[0m         presence_penalty\u001b[38;5;241m=\u001b[39m\u001b[38;5;241m0.0\u001b[39m\n\u001b[1;32m     21\u001b[0m     )\n\u001b[1;32m     22\u001b[0m     \u001b[38;5;28;01mreturn\u001b[39;00m response\u001b[38;5;241m.\u001b[39mchoices[\u001b[38;5;241m0\u001b[39m]\u001b[38;5;241m.\u001b[39mtext\u001b[38;5;241m.\u001b[39mstrip()\n",
      "File \u001b[0;32m/Library/Developer/CommandLineTools/Library/Frameworks/Python3.framework/Versions/3.9/lib/python3.9/os.py:679\u001b[0m, in \u001b[0;36m_Environ.__getitem__\u001b[0;34m(self, key)\u001b[0m\n\u001b[1;32m    676\u001b[0m     value \u001b[38;5;241m=\u001b[39m \u001b[38;5;28mself\u001b[39m\u001b[38;5;241m.\u001b[39m_data[\u001b[38;5;28mself\u001b[39m\u001b[38;5;241m.\u001b[39mencodekey(key)]\n\u001b[1;32m    677\u001b[0m \u001b[38;5;28;01mexcept\u001b[39;00m \u001b[38;5;167;01mKeyError\u001b[39;00m:\n\u001b[1;32m    678\u001b[0m     \u001b[38;5;66;03m# raise KeyError with the original key value\u001b[39;00m\n\u001b[0;32m--> 679\u001b[0m     \u001b[38;5;28;01mraise\u001b[39;00m \u001b[38;5;167;01mKeyError\u001b[39;00m(key) \u001b[38;5;28;01mfrom\u001b[39;00m \u001b[38;5;28;01mNone\u001b[39;00m\n\u001b[1;32m    680\u001b[0m \u001b[38;5;28;01mreturn\u001b[39;00m \u001b[38;5;28mself\u001b[39m\u001b[38;5;241m.\u001b[39mdecodevalue(value)\n",
      "\u001b[0;31mKeyError\u001b[0m: 'skgG64lj9fB5Y6uxKMsRhNT3BlbkFJh82sHMJNuzCgpGCZ1YWS'"
     ]
    }
   ],
   "source": [
    "from openai import OpenAI\n",
    "import os\n",
    "\n",
    "def analyze_image(image_path):\n",
    "    return \"a vibrant sunset over the ocean\"  # Mock result\n",
    "\n",
    "def summarize_text(text):\n",
    "    client = OpenAI(\n",
    "        api_key=os.environ['OPENAI_API_KEY']\n",
    "    )\n",
    "    response = client.completions.create(\n",
    "        model=\"gpt-3.5-turbo\",\n",
    "        prompt=f\"Summarize this text: {text}\",\n",
    "        temperature=0.5,\n",
    "        max_tokens=150,\n",
    "        top_p=1.0,\n",
    "        frequency_penalty=0.0,\n",
    "        presence_penalty=0.0\n",
    "    )\n",
    "    return response.choices[0].text.strip()\n",
    "\n",
    "def create_journal_entry(texts, image_paths):\n",
    "    summarized_texts = [summarize_text(text) for text in texts]\n",
    "    image_descriptions = [analyze_image(path) for path in image_paths]\n",
    "\n",
    "    journal_entry = \"Journal Entry:\\n\"\n",
    "    for summary in summarized_texts:\n",
    "        journal_entry += f\"- Summary: {summary}\\n\"\n",
    "    for desc in image_descriptions:\n",
    "        journal_entry += f\"- Image Description: {desc}\\n\"\n",
    "\n",
    "    return journal_entry\n",
    "\n",
    "# Example usage\n",
    "texts = [\"Today was a good day. I went to the park and later watched a movie.\", \n",
    "         \"I had a delicious lunch with friends.\"]\n",
    "image_paths = [\"path/to/image1.jpg\", \"path/to/image2.jpg\"] \n",
    "\n",
    "journal_entry = create_journal_entry(texts, image_paths)\n",
    "print(journal_entry)\n"
   ]
  }
 ],
 "metadata": {
  "kernelspec": {
   "display_name": "Python 3",
   "language": "python",
   "name": "python3"
  },
  "language_info": {
   "codemirror_mode": {
    "name": "ipython",
    "version": 3
   },
   "file_extension": ".py",
   "mimetype": "text/x-python",
   "name": "python",
   "nbconvert_exporter": "python",
   "pygments_lexer": "ipython3",
   "version": "3.9.6"
  }
 },
 "nbformat": 4,
 "nbformat_minor": 2
}
